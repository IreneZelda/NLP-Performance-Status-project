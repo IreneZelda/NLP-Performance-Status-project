{
 "cells": [
  {
   "cell_type": "markdown",
   "id": "22a1605e",
   "metadata": {},
   "source": [
    "# 4. Confirm INCEpTION positive labels\n",
    "\n",
    "Manual quality check of annotations"
   ]
  },
  {
   "cell_type": "code",
   "execution_count": null,
   "id": "f8ff3fa0",
   "metadata": {},
   "outputs": [],
   "source": [
    "import pandas as pd\n",
    "\n",
    "folds_val = pd.read_csv(r'.\\Intermediate results\\folds_val.csv', sep = '\\t')\n",
    "folds_test = pd.read_csv(r'.\\Intermediate results\\folds_test.csv', sep = '\\t')"
   ]
  },
  {
   "cell_type": "code",
   "execution_count": null,
   "id": "af3ec6da",
   "metadata": {},
   "outputs": [],
   "source": [
    "#Validation\n",
    "\n",
    "new_folds=folds_val\n",
    "\n",
    "sentence_validations = []\n",
    "\n",
    "for index, row in new_folds.iterrows():\n",
    "    if row['relevance_manual'] <2:#== 1:\n",
    "        while True:\n",
    "            try:\n",
    "                print(\"Index:\", index)\n",
    "                print('Sentence:', row['sentence'], 'Label:', row['relevance_manual'])\n",
    "                user_input = int(input(\"Please enter an integer: \"))\n",
    "                break\n",
    "            except:\n",
    "                print(\"TRY AGAIN:\")\n",
    "    elif row['relevance_manual'] == 0:\n",
    "        print('Sentence:', row['sentence'], 'Label:', row['relevance_manual'])\n",
    "        user_input = 0\n",
    "    sentence_validations.append(user_input)\n",
    "    \n",
    "new_folds['validated'] = sentence_validations \n",
    "\n",
    "\n",
    "new_folds.to_csv(r'.\\Intermediate results\\val_folds_validated.csv', sep = '\\t')"
   ]
  },
  {
   "cell_type": "code",
   "execution_count": null,
   "id": "24bd6b56",
   "metadata": {},
   "outputs": [],
   "source": [
    "#Test\n",
    "\n",
    "new_folds=folds_test\n",
    "\n",
    "sentence_validations = []\n",
    "\n",
    "for index, row in new_folds.iterrows():\n",
    "    if row['relevance_manual'] <2:#== 1:\n",
    "        while True:\n",
    "            try:\n",
    "                print(\"Index:\", index)\n",
    "                print('Sentence:', row['sentence'], 'Label:', row['relevance_manual'])\n",
    "                user_input = int(input(\"Please enter an integer: \"))\n",
    "                break\n",
    "            except:\n",
    "                print(\"TRY AGAIN:\")\n",
    "    elif row['relevance_manual'] == 0:\n",
    "        print('Sentence:', row['sentence'], 'Label:', row['relevance_manual'])\n",
    "        user_input = 0\n",
    "    sentence_validations.append(user_input)\n",
    "    \n",
    "new_folds['validated'] = sentence_validations \n",
    "\n",
    "\n",
    "new_folds.to_csv(r'.\\Intermediate results\\test_folds_validated.csv', sep = '\\t')"
   ]
  }
 ],
 "metadata": {
  "kernelspec": {
   "display_name": "MyDRE",
   "language": "python",
   "name": "mydre"
  },
  "language_info": {
   "codemirror_mode": {
    "name": "ipython",
    "version": 3
   },
   "file_extension": ".py",
   "mimetype": "text/x-python",
   "name": "python",
   "nbconvert_exporter": "python",
   "pygments_lexer": "ipython3",
   "version": "3.9.21"
  }
 },
 "nbformat": 4,
 "nbformat_minor": 5
}
